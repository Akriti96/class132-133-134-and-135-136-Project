{
  "nbformat": 4,
  "nbformat_minor": 0,
  "metadata": {
    "kernelspec": {
      "display_name": "Python 3",
      "language": "python",
      "name": "python3"
    },
    "language_info": {
      "codemirror_mode": {
        "name": "ipython",
        "version": 3
      },
      "file_extension": ".py",
      "mimetype": "text/x-python",
      "name": "python",
      "nbconvert_exporter": "python",
      "pygments_lexer": "ipython3",
      "version": "3.7.4"
    },
    "colab": {
      "name": "Yamuna132 and 133, 134,135",
      "provenance": [],
      "include_colab_link": true
    }
  },
  "cells": [
    {
      "cell_type": "markdown",
      "metadata": {
        "id": "view-in-github",
        "colab_type": "text"
      },
      "source": [
        "<a href=\"https://colab.research.google.com/github/Akriti96/class132-133-134-and-135-Project/blob/main/Yamuna132_and_133%2C_134%2C135.ipynb\" target=\"_parent\"><img src=\"https://colab.research.google.com/assets/colab-badge.svg\" alt=\"Open In Colab\"/></a>"
      ]
    },
    {
      "cell_type": "markdown",
      "metadata": {
        "id": "QFWdvtwQDT6i"
      },
      "source": [
        "**Class 132 Project PLOTTING CHARTS**\n",
        "\n"
      ]
    },
    {
      "cell_type": "code",
      "metadata": {
        "id": "XWmZFbO2DV7z"
      },
      "source": [
        "import pandas as pd\n",
        "import matplotlib.pyplot as plt\n",
        "%matplotlib inline"
      ],
      "execution_count": null,
      "outputs": []
    },
    {
      "cell_type": "code",
      "metadata": {
        "id": "C9fyG2YvDPuT"
      },
      "source": [
        "\n",
        "df = pd.read_csv(\"Stars_gravity.csv\")"
      ],
      "execution_count": null,
      "outputs": []
    },
    {
      "cell_type": "code",
      "metadata": {
        "id": "x8X_SImDU34R",
        "colab": {
          "base_uri": "https://localhost:8080/",
          "height": 205
        },
        "outputId": "76a4c2e0-0764-4132-d7da-e81524619f58"
      },
      "source": [
        "df.head()"
      ],
      "execution_count": null,
      "outputs": [
        {
          "output_type": "execute_result",
          "data": {
            "text/html": [
              "<div>\n",
              "<style scoped>\n",
              "    .dataframe tbody tr th:only-of-type {\n",
              "        vertical-align: middle;\n",
              "    }\n",
              "\n",
              "    .dataframe tbody tr th {\n",
              "        vertical-align: top;\n",
              "    }\n",
              "\n",
              "    .dataframe thead th {\n",
              "        text-align: right;\n",
              "    }\n",
              "</style>\n",
              "<table border=\"1\" class=\"dataframe\">\n",
              "  <thead>\n",
              "    <tr style=\"text-align: right;\">\n",
              "      <th></th>\n",
              "      <th>Unnamed: 0</th>\n",
              "      <th>Star_name</th>\n",
              "      <th>Distance</th>\n",
              "      <th>Mass</th>\n",
              "      <th>Radius</th>\n",
              "      <th>Gravity</th>\n",
              "    </tr>\n",
              "  </thead>\n",
              "  <tbody>\n",
              "    <tr>\n",
              "      <th>0</th>\n",
              "      <td>0</td>\n",
              "      <td>Sun</td>\n",
              "      <td>0.000016</td>\n",
              "      <td>1.0</td>\n",
              "      <td>1.0</td>\n",
              "      <td>274.269161</td>\n",
              "    </tr>\n",
              "    <tr>\n",
              "      <th>1</th>\n",
              "      <td>1</td>\n",
              "      <td>Sirius</td>\n",
              "      <td>8.600000</td>\n",
              "      <td>2.1</td>\n",
              "      <td>NaN</td>\n",
              "      <td>NaN</td>\n",
              "    </tr>\n",
              "    <tr>\n",
              "      <th>2</th>\n",
              "      <td>2</td>\n",
              "      <td>Canopus</td>\n",
              "      <td>310.000000</td>\n",
              "      <td>15.0</td>\n",
              "      <td>71.0</td>\n",
              "      <td>0.816115</td>\n",
              "    </tr>\n",
              "    <tr>\n",
              "      <th>3</th>\n",
              "      <td>3</td>\n",
              "      <td>Alpha Centauri</td>\n",
              "      <td>4.400000</td>\n",
              "      <td>1.1</td>\n",
              "      <td>1.2</td>\n",
              "      <td>209.511165</td>\n",
              "    </tr>\n",
              "    <tr>\n",
              "      <th>4</th>\n",
              "      <td>4</td>\n",
              "      <td>Arcturus</td>\n",
              "      <td>37.000000</td>\n",
              "      <td>1.1</td>\n",
              "      <td>26.0</td>\n",
              "      <td>0.446296</td>\n",
              "    </tr>\n",
              "  </tbody>\n",
              "</table>\n",
              "</div>"
            ],
            "text/plain": [
              "   Unnamed: 0       Star_name    Distance  Mass  Radius     Gravity\n",
              "0           0             Sun    0.000016   1.0     1.0  274.269161\n",
              "1           1          Sirius    8.600000   2.1     NaN         NaN\n",
              "2           2         Canopus  310.000000  15.0    71.0    0.816115\n",
              "3           3  Alpha Centauri    4.400000   1.1     1.2  209.511165\n",
              "4           4        Arcturus   37.000000   1.1    26.0    0.446296"
            ]
          },
          "metadata": {},
          "execution_count": 26
        }
      ]
    },
    {
      "cell_type": "code",
      "metadata": {
        "colab": {
          "base_uri": "https://localhost:8080/",
          "height": 125
        },
        "id": "op_1em13nKUO",
        "outputId": "09f546f2-a7ca-40bf-a23b-67692fbe3092"
      },
      "source": [
        "finalData= df.dropna(how=\"any\")\n",
        "finalData.reset_index(drop=True,inplace=True)\n",
        "finalData.drop([\"Unnamed: 0\"],axis=1, inplace=True)\n",
        "finalData\n",
        "\n",
        "\n",
        "from google.colab import files\n",
        "finalData.to_csv(\"Stars_final.csv\")\n",
        "files.download(\"Stars_final.csv\")"
      ],
      "execution_count": null,
      "outputs": [
        {
          "output_type": "stream",
          "name": "stderr",
          "text": [
            "/usr/local/lib/python3.7/dist-packages/pandas/core/frame.py:4174: SettingWithCopyWarning: \n",
            "A value is trying to be set on a copy of a slice from a DataFrame\n",
            "\n",
            "See the caveats in the documentation: https://pandas.pydata.org/pandas-docs/stable/user_guide/indexing.html#returning-a-view-versus-a-copy\n",
            "  errors=errors,\n"
          ]
        },
        {
          "output_type": "display_data",
          "data": {
            "application/javascript": [
              "\n",
              "    async function download(id, filename, size) {\n",
              "      if (!google.colab.kernel.accessAllowed) {\n",
              "        return;\n",
              "      }\n",
              "      const div = document.createElement('div');\n",
              "      const label = document.createElement('label');\n",
              "      label.textContent = `Downloading \"${filename}\": `;\n",
              "      div.appendChild(label);\n",
              "      const progress = document.createElement('progress');\n",
              "      progress.max = size;\n",
              "      div.appendChild(progress);\n",
              "      document.body.appendChild(div);\n",
              "\n",
              "      const buffers = [];\n",
              "      let downloaded = 0;\n",
              "\n",
              "      const channel = await google.colab.kernel.comms.open(id);\n",
              "      // Send a message to notify the kernel that we're ready.\n",
              "      channel.send({})\n",
              "\n",
              "      for await (const message of channel.messages) {\n",
              "        // Send a message to notify the kernel that we're ready.\n",
              "        channel.send({})\n",
              "        if (message.buffers) {\n",
              "          for (const buffer of message.buffers) {\n",
              "            buffers.push(buffer);\n",
              "            downloaded += buffer.byteLength;\n",
              "            progress.value = downloaded;\n",
              "          }\n",
              "        }\n",
              "      }\n",
              "      const blob = new Blob(buffers, {type: 'application/binary'});\n",
              "      const a = document.createElement('a');\n",
              "      a.href = window.URL.createObjectURL(blob);\n",
              "      a.download = filename;\n",
              "      div.appendChild(a);\n",
              "      a.click();\n",
              "      div.remove();\n",
              "    }\n",
              "  "
            ],
            "text/plain": [
              "<IPython.core.display.Javascript object>"
            ]
          },
          "metadata": {}
        },
        {
          "output_type": "display_data",
          "data": {
            "application/javascript": [
              "download(\"download_07683f35-3e9f-4a14-98b9-9c275d6c573a\", \"Stars_final.csv\", 15437)"
            ],
            "text/plain": [
              "<IPython.core.display.Javascript object>"
            ]
          },
          "metadata": {}
        }
      ]
    },
    {
      "cell_type": "code",
      "metadata": {
        "id": "IkR_0QSfU34S"
      },
      "source": [
        "mass = finalData[\"Mass\"].to_list()\n",
        "radius = finalData[\"Radius\"].to_list()\n",
        "dist = finalData[\"Distance\"].to_list()\n",
        "gravity = finalData[\"Gravity\"].to_list()\n"
      ],
      "execution_count": null,
      "outputs": []
    },
    {
      "cell_type": "code",
      "metadata": {
        "id": "J7xim67DU34T",
        "colab": {
          "base_uri": "https://localhost:8080/",
          "height": 295
        },
        "outputId": "53b5402c-887f-474e-de4e-e959544919e1"
      },
      "source": [
        "mass.sort()\n",
        "radius.sort()\n",
        "gravity.sort()\n",
        "plt.plot(radius,gravity)\n",
        "#plt.plot(radius,gravity)\n",
        "\n",
        "plt.title(\"Radius & Mass of the Star\")\n",
        "plt.xlabel(\"Radius\")\n",
        "plt.ylabel(\"Gravity\")\n",
        "plt.show()"
      ],
      "execution_count": null,
      "outputs": [
        {
          "output_type": "display_data",
          "data": {
            "image/png": "[encoded data removed]",
            "text/plain": [
              "<Figure size 432x288 with 1 Axes>"
            ]
          },
          "metadata": {
            "needs_background": "light"
          }
        }
      ]
    },
    {
      "cell_type": "code",
      "metadata": {
        "id": "iJDmC-zaU34U",
        "colab": {
          "base_uri": "https://localhost:8080/",
          "height": 295
        },
        "outputId": "ba5b84e0-b4d7-4dbd-e34a-bdbcb73a0c19"
      },
      "source": [
        "plt.plot(mass,gravity)\n",
        "\n",
        "plt.title(\"Mass vs Gravity\")\n",
        "plt.xlabel(\"Mass\")\n",
        "plt.ylabel(\"Gravity\")\n",
        "plt.show()\n"
      ],
      "execution_count": null,
      "outputs": [
        {
          "output_type": "display_data",
          "data": {
            "image/png": "[encoded data removed]",
            "text/plain": [
              "<Figure size 432x288 with 1 Axes>"
            ]
          },
          "metadata": {
            "needs_background": "light"
          }
        }
      ]
    },
    {
      "cell_type": "code",
      "metadata": {
        "id": "j0V59jvRU34V",
        "colab": {
          "base_uri": "https://localhost:8080/",
          "height": 279
        },
        "outputId": "c7971a12-4e64-417f-a4eb-7d0aa4f147e3"
      },
      "source": [
        "plt.scatter(radius,mass)\n",
        "plt.xlabel(\"Radius\")\n",
        "plt.ylabel(\"Mass\")\n",
        "plt.show()"
      ],
      "execution_count": null,
      "outputs": [
        {
          "output_type": "display_data",
          "data": {
            "image/png": "[encoded data removed]",
            "text/plain": [
              "<Figure size 432x288 with 1 Axes>"
            ]
          },
          "metadata": {
            "needs_background": "light"
          }
        }
      ]
    },
    {
      "cell_type": "markdown",
      "metadata": {
        "id": "vsGPDFSNDtTt"
      },
      "source": [
        "**Class 133 Project CLUSTERING**"
      ]
    },
    {
      "cell_type": "code",
      "metadata": {
        "id": "uziUc_OtU34X"
      },
      "source": [
        "import pandas as pd\n",
        "import matplotlib.pyplot as plt\n",
        "import numpy as np\n",
        "from sklearn.cluster import KMeans\n"
      ],
      "execution_count": null,
      "outputs": []
    },
    {
      "cell_type": "code",
      "metadata": {
        "colab": {
          "base_uri": "https://localhost:8080/",
          "height": 205
        },
        "id": "dJPoz-ujo0a2",
        "outputId": "ae52747b-1088-47f4-92f7-c3f80433b605"
      },
      "source": [
        "df = pd.read_csv(\"Stars_final.csv\")\n",
        "df.head()"
      ],
      "execution_count": null,
      "outputs": [
        {
          "output_type": "execute_result",
          "data": {
            "text/html": [
              "<div>\n",
              "<style scoped>\n",
              "    .dataframe tbody tr th:only-of-type {\n",
              "        vertical-align: middle;\n",
              "    }\n",
              "\n",
              "    .dataframe tbody tr th {\n",
              "        vertical-align: top;\n",
              "    }\n",
              "\n",
              "    .dataframe thead th {\n",
              "        text-align: right;\n",
              "    }\n",
              "</style>\n",
              "<table border=\"1\" class=\"dataframe\">\n",
              "  <thead>\n",
              "    <tr style=\"text-align: right;\">\n",
              "      <th></th>\n",
              "      <th>Unnamed: 0</th>\n",
              "      <th>Star_name</th>\n",
              "      <th>Distance</th>\n",
              "      <th>Mass</th>\n",
              "      <th>Radius</th>\n",
              "      <th>Gravity</th>\n",
              "    </tr>\n",
              "  </thead>\n",
              "  <tbody>\n",
              "    <tr>\n",
              "      <th>0</th>\n",
              "      <td>0</td>\n",
              "      <td>Sun</td>\n",
              "      <td>0.000016</td>\n",
              "      <td>1.0</td>\n",
              "      <td>1.0</td>\n",
              "      <td>274.269161</td>\n",
              "    </tr>\n",
              "    <tr>\n",
              "      <th>1</th>\n",
              "      <td>1</td>\n",
              "      <td>Canopus</td>\n",
              "      <td>310.000000</td>\n",
              "      <td>15.0</td>\n",
              "      <td>71.0</td>\n",
              "      <td>0.816115</td>\n",
              "    </tr>\n",
              "    <tr>\n",
              "      <th>2</th>\n",
              "      <td>2</td>\n",
              "      <td>Alpha Centauri</td>\n",
              "      <td>4.400000</td>\n",
              "      <td>1.1</td>\n",
              "      <td>1.2</td>\n",
              "      <td>209.511165</td>\n",
              "    </tr>\n",
              "    <tr>\n",
              "      <th>3</th>\n",
              "      <td>3</td>\n",
              "      <td>Arcturus</td>\n",
              "      <td>37.000000</td>\n",
              "      <td>1.1</td>\n",
              "      <td>26.0</td>\n",
              "      <td>0.446296</td>\n",
              "    </tr>\n",
              "    <tr>\n",
              "      <th>4</th>\n",
              "      <td>4</td>\n",
              "      <td>Vega</td>\n",
              "      <td>25.000000</td>\n",
              "      <td>2.2</td>\n",
              "      <td>2.7</td>\n",
              "      <td>82.769843</td>\n",
              "    </tr>\n",
              "  </tbody>\n",
              "</table>\n",
              "</div>"
            ],
            "text/plain": [
              "   Unnamed: 0       Star_name    Distance  Mass  Radius     Gravity\n",
              "0           0             Sun    0.000016   1.0     1.0  274.269161\n",
              "1           1         Canopus  310.000000  15.0    71.0    0.816115\n",
              "2           2  Alpha Centauri    4.400000   1.1     1.2  209.511165\n",
              "3           3        Arcturus   37.000000   1.1    26.0    0.446296\n",
              "4           4            Vega   25.000000   2.2     2.7   82.769843"
            ]
          },
          "metadata": {},
          "execution_count": 111
        }
      ]
    },
    {
      "cell_type": "code",
      "metadata": {
        "colab": {
          "base_uri": "https://localhost:8080/"
        },
        "id": "RPMH50WKpxIQ",
        "outputId": "07f02e7c-6f3d-4075-f8b1-a458d12ea0ec"
      },
      "source": [
        "X = df.iloc[:,[3,4]].values\n",
        "X"
      ],
      "execution_count": null,
      "outputs": [
        {
          "output_type": "execute_result",
          "data": {
            "text/plain": [
              "array([[1.00000000e+00, 1.00000000e+00],\n",
              "       [1.50000000e+01, 7.10000000e+01],\n",
              "       [1.10000000e+00, 1.20000000e+00],\n",
              "       [1.10000000e+00, 2.60000000e+01],\n",
              "       [2.20000000e+00, 2.70000000e+00],\n",
              "       [2.60000000e+00, 1.20000000e+01],\n",
              "       [2.30000000e+01, 7.89000000e+01],\n",
              "       [1.50000000e+00, 1.90000000e+00],\n",
              "       [6.70000000e+00, 9.30000000e+00],\n",
              "       [1.05000000e+01, 8.60000000e+00],\n",
              "       [1.80000000e+00, 1.80000000e+00],\n",
              "       [1.80000000e+01, 8.90000000e+00],\n",
              "       [1.50000000e+00, 4.40000000e+01],\n",
              "       [1.20000000e+01, 6.80000000e+02],\n",
              "       [1.14300000e+01, 7.47000000e+00],\n",
              "       [1.90000000e+00, 8.80000000e+00],\n",
              "       [1.90000000e+00, 1.80000000e+00],\n",
              "       [1.60000000e+01, 8.40000000e+00],\n",
              "       [3.80000000e+00, 3.10000000e+00],\n",
              "       [1.25000000e+01, 1.40000000e+01],\n",
              "       [1.45000000e+01, 8.80000000e+00],\n",
              "       [2.80000000e+00, 2.40000000e+00],\n",
              "       [1.50000000e+00, 8.40000000e+01],\n",
              "       [8.60000000e+00, 5.80000000e+00],\n",
              "       [5.00000000e+00, 4.20000000e+00],\n",
              "       [3.50000000e+00, 6.80000000e+00],\n",
              "       [4.00000000e+00, 3.40000000e+00],\n",
              "       [2.90000000e+00, 4.20000000e+00],\n",
              "       [3.30000000e+01, 2.00000000e+01],\n",
              "       [4.25000000e+00, 3.00000000e+01],\n",
              "       [8.50000000e+00, 6.80000000e+01],\n",
              "       [5.70000000e+00, 2.60000000e+01],\n",
              "       [3.50000000e+00, 6.80000000e+00],\n",
              "       [9.00000000e+00, 1.30000000e+02],\n",
              "       [6.10000000e+00, 3.40000000e+00],\n",
              "       [2.39000000e+00, 2.77000000e+00],\n",
              "       [7.00000000e+00, 9.20000000e+01],\n",
              "       [2.80000000e+00, 3.30000000e+00],\n",
              "       [5.90000000e+00, 4.80000000e+00],\n",
              "       [2.40000000e+00, 2.90000000e+00],\n",
              "       [1.35000000e+01, 1.00000000e+01],\n",
              "       [5.40000000e+00, 3.90000000e+01],\n",
              "       [3.00000000e+00, 5.00000000e+01],\n",
              "       [2.10000000e+00, 9.50000000e+01],\n",
              "       [1.50000000e+01, 1.40000000e+02],\n",
              "       [2.80000000e+00, 2.80000000e+02],\n",
              "       [7.83000000e-01, 8.93000000e-01],\n",
              "       [9.91000000e-01, 1.22000000e+00],\n",
              "       [8.20000000e-01, 7.40000000e-01],\n",
              "       [4.50000000e+00, 4.45000000e+01],\n",
              "       [1.27000000e+00, 1.48000000e+00],\n",
              "       [7.00000000e-01, 6.65000000e-01],\n",
              "       [1.59000000e+00, 3.74000000e+00],\n",
              "       [7.60000000e-01, 9.40000000e-01],\n",
              "       [1.20000000e+00, 3.70000000e+02],\n",
              "       [6.00000000e-01, 5.10000000e-01],\n",
              "       [8.00000000e-01, 3.40000000e+00],\n",
              "       [1.40000000e-01, 2.00000000e-01],\n",
              "       [1.20000000e-01, 1.50000000e-01],\n",
              "       [1.60000000e-01, 2.10000000e-01],\n",
              "       [7.50000000e-02, 1.00000000e-01],\n",
              "       [8.90000000e-02, 1.20000000e-01],\n",
              "       [7.00000000e-02, 8.60000000e-02],\n",
              "       [4.58202240e-02, 1.01735370e-01],\n",
              "       [1.81371720e-02, 1.67503690e-01],\n",
              "       [7.54124520e-02, 1.12011670e-01],\n",
              "       [2.95922280e-02, 1.47978720e-01],\n",
              "       [5.15477520e-02, 1.00707740e-01],\n",
              "       [2.76830520e-02, 1.46951090e-01],\n",
              "       [4.00926960e-02, 9.65972200e-02],\n",
              "       [4.00926960e-02, 9.65972200e-02],\n",
              "       [2.19555240e-02, 1.66476060e-01],\n",
              "       [1.14550560e-02, 1.33591900e-01],\n",
              "       [3.81835200e-02, 9.65972200e-02],\n",
              "       [2.76830520e-02, 1.46951090e-01],\n",
              "       [4.96385760e-02, 1.00707740e-01],\n",
              "       [4.96385760e-02, 1.00707740e-01],\n",
              "       [1.90917600e-02, 1.66476060e-01],\n",
              "       [1.90917600e-02, 1.65448430e-01],\n",
              "       [4.48656360e-02, 9.96801100e-02],\n",
              "       [4.48656360e-02, 9.96801100e-02],\n",
              "       [1.43188200e-02, 1.57227390e-01],\n",
              "       [1.90917600e-02, 1.66476060e-01],\n",
              "       [2.57738760e-02, 1.44895830e-01],\n",
              "       [3.15014040e-02, 1.01735370e-01],\n",
              "       [7.44578640e-02, 1.10984040e-01],\n",
              "       [7.63670400e-02, 1.30509010e-01],\n",
              "       [6.20482200e-02, 1.95249700e-01],\n",
              "       [6.20482200e-02, 1.95249700e-01],\n",
              "       [7.63670400e-02, 9.96801100e-02],\n",
              "       [4.67748120e-02, 9.96801100e-02],\n",
              "       [8.40037440e-02, 1.18177450e-01],\n",
              "       [2.19555240e-02, 1.70586580e-01],\n",
              "       [4.29564600e-02, 9.76248500e-02],\n",
              "       [1.71825840e-02, 1.33591900e-01],\n",
              "       [5.15477520e-02, 1.00707740e-01],\n",
              "       [6.96849240e-02, 1.06873520e-01],\n",
              "       [6.96849240e-02, 1.46951090e-01],\n",
              "       [7.06395120e-02, 1.07901150e-01],\n",
              "       [5.25023400e-02, 3.88444140e-01],\n",
              "       [9.73679760e-02, 1.30509010e-01],\n",
              "       [1.90917600e-02, 1.35647160e-01],\n",
              "       [2.86376400e-02, 9.76248500e-02],\n",
              "       [7.63670400e-02, 1.12011670e-01],\n",
              "       [9.54588000e-02, 1.29481380e-01],\n",
              "       [3.72289320e-02, 2.02443110e-01],\n",
              "       [4.58202240e-02, 9.96801100e-02],\n",
              "       [2.10009360e-02, 1.82918140e-01],\n",
              "       [6.10936320e-02, 1.02763000e-01],\n",
              "       [9.92771520e-04, 7.39893600e+00],\n",
              "       [6.10936320e-02, 1.02763000e-01],\n",
              "       [2.00463480e-02, 1.41812940e-01],\n",
              "       [4.48656360e-02, 9.96801100e-02],\n",
              "       [6.49119840e-02, 1.03790630e-01],\n",
              "       [5.82298680e-02, 1.03790630e-01],\n",
              "       [2.67284640e-02, 1.44895830e-01],\n",
              "       [3.62743440e-02, 1.55172130e-01],\n",
              "       [5.34569280e-02, 1.01735370e-01],\n",
              "       [6.39573960e-02, 1.03790630e-01],\n",
              "       [7.15941000e-02, 1.07901150e-01],\n",
              "       [6.87303360e-02, 1.05845890e-01],\n",
              "       [2.48192880e-02, 1.00707740e-01],\n",
              "       [3.91381080e-02, 9.65972200e-02],\n",
              "       [3.53197560e-02, 9.65972200e-02],\n",
              "       [4.10472840e-02, 9.65972200e-02],\n",
              "       [6.77757480e-02, 1.05845890e-01],\n",
              "       [1.91872188e-03, 6.98788400e+00],\n",
              "       [4.20018720e-02, 9.65972200e-02],\n",
              "       [4.96385760e-02, 1.00707740e-01],\n",
              "       [4.58202240e-02, 1.01735370e-01],\n",
              "       [8.40037440e-02, 1.18177450e-01],\n",
              "       [4.39110480e-02, 9.86524800e-02],\n",
              "       [5.91844560e-02, 1.02763000e-01],\n",
              "       [6.10936320e-02, 1.02763000e-01],\n",
              "       [7.35032760e-02, 1.09956410e-01],\n",
              "       [4.77294000e-02, 1.00707740e-01],\n",
              "       [4.00926960e-02, 9.65972200e-02],\n",
              "       [3.05468160e-02, 9.76248500e-02],\n",
              "       [4.67748120e-02, 9.86524800e-02],\n",
              "       [4.20018720e-02, 9.65972200e-02],\n",
              "       [4.86839880e-02, 1.00707740e-01],\n",
              "       [2.57738760e-02, 1.44895830e-01],\n",
              "       [4.67748120e-02, 9.96801100e-02],\n",
              "       [4.00926960e-02, 9.65972200e-02],\n",
              "       [7.35032760e-02, 1.09956410e-01],\n",
              "       [4.10472840e-02, 1.04818260e-01],\n",
              "       [3.81835200e-02, 1.03790630e-01],\n",
              "       [6.10936320e-02, 1.02763000e-01],\n",
              "       [3.43651680e-02, 2.45603570e-01],\n",
              "       [7.63670400e-03, 1.84973400e-01],\n",
              "       [8.59129200e-03, 1.27426120e-01],\n",
              "       [3.15014040e-02, 9.86524800e-02],\n",
              "       [2.86376400e-02, 2.26078600e-01],\n",
              "       [3.53197560e-02, 1.54144500e-01],\n",
              "       [6.10936320e-02, 1.02763000e-01],\n",
              "       [1.62279960e-02, 1.75724730e-01],\n",
              "       [4.00926960e-02, 9.65972200e-02],\n",
              "       [3.91381080e-02, 9.65972200e-02],\n",
              "       [1.90917600e-03, 2.56907500e+00],\n",
              "       [4.48656360e-02, 1.00707740e-01],\n",
              "       [6.01390440e-02, 1.00707740e-01],\n",
              "       [5.53661040e-02, 1.00707740e-01],\n",
              "       [6.39573960e-02, 1.03790630e-01],\n",
              "       [4.86839880e-02, 9.96801100e-02],\n",
              "       [4.20018720e-02, 9.65972200e-02],\n",
              "       [6.01390440e-02, 1.02763000e-01],\n",
              "       [3.05468160e-02, 9.86524800e-02],\n",
              "       [5.63206920e-02, 1.01735370e-01],\n",
              "       [2.00463480e-02, 1.35647160e-01],\n",
              "       [7.25486880e-02, 1.08928780e-01],\n",
              "       [6.87303360e-02, 1.05845890e-01],\n",
              "       [8.78220960e-02, 1.22287970e-01],\n",
              "       [5.63206920e-02, 1.01735370e-01],\n",
              "       [1.05959268e-02, 1.54144500e-01],\n",
              "       [8.59129200e-03, 1.33591900e-01],\n",
              "       [7.15941000e-02, 1.07901150e-01],\n",
              "       [4.20018720e-02, 9.65972200e-02],\n",
              "       [4.20018720e-02, 9.65972200e-02],\n",
              "       [6.58665720e-02, 1.04818260e-01],\n",
              "       [5.72752800e-02, 1.01735370e-01],\n",
              "       [7.54124520e-02, 1.10984040e-01],\n",
              "       [5.44115160e-02, 1.01735370e-01],\n",
              "       [5.15477520e-02, 1.00707740e-01],\n",
              "       [6.01390440e-02, 1.02763000e-01],\n",
              "       [4.20018720e-02, 9.65972200e-02],\n",
              "       [2.86376400e-02, 1.46951090e-01],\n",
              "       [6.77757480e-02, 1.05845890e-01],\n",
              "       [4.00926960e-02, 9.65972200e-02],\n",
              "       [4.10472840e-02, 9.65972200e-02],\n",
              "       [6.77757480e-02, 1.05845890e-01],\n",
              "       [4.67748120e-02, 9.96801100e-02],\n",
              "       [3.91381080e-02, 9.65972200e-02],\n",
              "       [6.96849240e-02, 1.06873520e-01],\n",
              "       [2.29101120e-02, 1.43868200e-01],\n",
              "       [4.48656360e-02, 9.96801100e-02],\n",
              "       [4.29564600e-02, 9.76248500e-02],\n",
              "       [7.35032760e-02, 1.09956410e-01],\n",
              "       [6.39573960e-02, 1.03790630e-01],\n",
              "       [9.16404480e-02, 1.25370860e-01],\n",
              "       [2.38647000e-02, 1.93194440e-01],\n",
              "       [4.39110480e-02, 9.86524800e-02],\n",
              "       [6.68211600e-02, 1.04818260e-01],\n",
              "       [6.58665720e-02, 1.04818260e-01],\n",
              "       [6.20482200e-03, 1.57227390e-01],\n",
              "       [8.97312720e-02, 1.24343230e-01],\n",
              "       [4.39110480e-02, 9.86524800e-02],\n",
              "       [5.25023400e-02, 1.01735370e-01],\n",
              "       [2.10009360e-02, 1.36674790e-01],\n",
              "       [2.57738760e-02, 1.44895830e-01],\n",
              "       [5.82298680e-02, 1.01735370e-01],\n",
              "       [4.00926960e-02, 9.65972200e-02],\n",
              "       [6.96849240e-02, 1.06873520e-01],\n",
              "       [1.14550560e-02, 1.32564270e-01],\n",
              "       [2.29101120e-02, 1.42840570e-01],\n",
              "       [1.62279960e-02, 1.63393170e-01],\n",
              "       [8.40037440e-02, 1.19205080e-01],\n",
              "       [7.63670400e-02, 1.12011670e-01],\n",
              "       [5.72752800e-03, 1.20232710e-01],\n",
              "       [1.43188200e-02, 4.31604600e-01],\n",
              "       [9.54588000e-03, 3.90499400e-01],\n",
              "       [2.86376400e-02, 8.83761800e-02]])"
            ]
          },
          "metadata": {},
          "execution_count": 112
        }
      ]
    },
    {
      "cell_type": "code",
      "metadata": {
        "colab": {
          "base_uri": "https://localhost:8080/",
          "height": 174
        },
        "id": "msa57hFV6NDM",
        "outputId": "6d611ab3-d216-4b95-eb63-9a2d018bd2fd"
      },
      "source": [
        "import pandas as pd\n",
        "\n",
        "mydata=[{\"population\":10000,\"hospitals\":1500,\"schools\":7500},\n",
        "        {\"population\":12000,\"hospitals\":1600,\"schools\":7800},\n",
        "        {\"population\":15000,\"hospitals\":1800,\"schools\":8000},\n",
        "        {\"population\":20000,\"hospitals\":2000,\"schools\":8500}]\n",
        "df=pd.DataFrame(mydata)\n",
        "df.index=[\"mumbai\",\"Bangalore\",\"chennai\",\"kerala\"]\n",
        "df"
      ],
      "execution_count": null,
      "outputs": [
        {
          "output_type": "execute_result",
          "data": {
            "text/html": [
              "<div>\n",
              "<style scoped>\n",
              "    .dataframe tbody tr th:only-of-type {\n",
              "        vertical-align: middle;\n",
              "    }\n",
              "\n",
              "    .dataframe tbody tr th {\n",
              "        vertical-align: top;\n",
              "    }\n",
              "\n",
              "    .dataframe thead th {\n",
              "        text-align: right;\n",
              "    }\n",
              "</style>\n",
              "<table border=\"1\" class=\"dataframe\">\n",
              "  <thead>\n",
              "    <tr style=\"text-align: right;\">\n",
              "      <th></th>\n",
              "      <th>population</th>\n",
              "      <th>hospitals</th>\n",
              "      <th>schools</th>\n",
              "    </tr>\n",
              "  </thead>\n",
              "  <tbody>\n",
              "    <tr>\n",
              "      <th>mumbai</th>\n",
              "      <td>10000</td>\n",
              "      <td>1500</td>\n",
              "      <td>7500</td>\n",
              "    </tr>\n",
              "    <tr>\n",
              "      <th>Bangalore</th>\n",
              "      <td>12000</td>\n",
              "      <td>1600</td>\n",
              "      <td>7800</td>\n",
              "    </tr>\n",
              "    <tr>\n",
              "      <th>chennai</th>\n",
              "      <td>15000</td>\n",
              "      <td>1800</td>\n",
              "      <td>8000</td>\n",
              "    </tr>\n",
              "    <tr>\n",
              "      <th>kerala</th>\n",
              "      <td>20000</td>\n",
              "      <td>2000</td>\n",
              "      <td>8500</td>\n",
              "    </tr>\n",
              "  </tbody>\n",
              "</table>\n",
              "</div>"
            ],
            "text/plain": [
              "           population  hospitals  schools\n",
              "mumbai          10000       1500     7500\n",
              "Bangalore       12000       1600     7800\n",
              "chennai         15000       1800     8000\n",
              "kerala          20000       2000     8500"
            ]
          },
          "metadata": {},
          "execution_count": 97
        }
      ]
    },
    {
      "cell_type": "code",
      "metadata": {
        "colab": {
          "base_uri": "https://localhost:8080/",
          "height": 143
        },
        "id": "5dUNksE96ewA",
        "outputId": "a0c45d83-26f8-41b6-f4d3-f383ce579647"
      },
      "source": [
        "df.iloc[0:3,[1]]"
      ],
      "execution_count": null,
      "outputs": [
        {
          "output_type": "execute_result",
          "data": {
            "text/html": [
              "<div>\n",
              "<style scoped>\n",
              "    .dataframe tbody tr th:only-of-type {\n",
              "        vertical-align: middle;\n",
              "    }\n",
              "\n",
              "    .dataframe tbody tr th {\n",
              "        vertical-align: top;\n",
              "    }\n",
              "\n",
              "    .dataframe thead th {\n",
              "        text-align: right;\n",
              "    }\n",
              "</style>\n",
              "<table border=\"1\" class=\"dataframe\">\n",
              "  <thead>\n",
              "    <tr style=\"text-align: right;\">\n",
              "      <th></th>\n",
              "      <th>hospitals</th>\n",
              "    </tr>\n",
              "  </thead>\n",
              "  <tbody>\n",
              "    <tr>\n",
              "      <th>mumbai</th>\n",
              "      <td>1500</td>\n",
              "    </tr>\n",
              "    <tr>\n",
              "      <th>Bangalore</th>\n",
              "      <td>1600</td>\n",
              "    </tr>\n",
              "    <tr>\n",
              "      <th>chennai</th>\n",
              "      <td>1800</td>\n",
              "    </tr>\n",
              "  </tbody>\n",
              "</table>\n",
              "</div>"
            ],
            "text/plain": [
              "           hospitals\n",
              "mumbai          1500\n",
              "Bangalore       1600\n",
              "chennai         1800"
            ]
          },
          "metadata": {},
          "execution_count": 107
        }
      ]
    },
    {
      "cell_type": "code",
      "metadata": {
        "colab": {
          "base_uri": "https://localhost:8080/",
          "height": 334
        },
        "id": "bycdLTuep7Qr",
        "outputId": "b551e23e-75f9-4a86-d071-b014f6c3f0e6"
      },
      "source": [
        "X = df.iloc[:,[3,4]].values\n",
        "wcss=[]\n",
        "krange=range(1,11)\n",
        "for i in krange:\n",
        "  kmeans= KMeans(n_clusters=i,init='k-means++',random_state=42)\n",
        "  kmeans.fit(X)\n",
        "  wcss.append(kmeans.inertia_)\n",
        "print(wcss)\n",
        "\n",
        "\n",
        "plt.xlabel(\"k-clusters\")\n",
        "plt.ylabel(\"wcss\")\n",
        "plt.plot(krange,wcss, marker=\"*\",color=\"blue\")"
      ],
      "execution_count": null,
      "outputs": [
        {
          "output_type": "stream",
          "name": "stdout",
          "text": [
            "[740212.998895906, 173483.6072012067, 89400.27386787342, 22233.532069671932, 13653.096635263168, 9347.795801929833, 5296.515801929832, 2930.3699707872165, 2245.6333041205507, 1719.225651393278]\n"
          ]
        },
        {
          "output_type": "execute_result",
          "data": {
            "text/plain": [
              "[<matplotlib.lines.Line2D at 0x7fe38dffc850>]"
            ]
          },
          "metadata": {},
          "execution_count": 120
        },
        {
          "output_type": "display_data",
          "data": {
            "image/png": "[encoded data removed]",
            "text/plain": [
              "<Figure size 432x288 with 1 Axes>"
            ]
          },
          "metadata": {
            "needs_background": "light"
          }
        }
      ]
    },
    {
      "cell_type": "code",
      "metadata": {
        "colab": {
          "base_uri": "https://localhost:8080/",
          "height": 459
        },
        "id": "EVFBlumFqXhe",
        "outputId": "232c4d29-5533-4b08-fd4f-a7644b4b636b"
      },
      "source": [
        "import plotly.express as px\n",
        "plt.scatter(finalData[\"Mass\"],finalData[\"Radius\"])\n",
        "plt.show()\n",
        "\n",
        "km= KMeans(n_clusters=2)\n",
        "y_predict=km.fit_predict(finalData[[\"Mass\",\"Radius\"]])\n",
        "y_predict"
      ],
      "execution_count": null,
      "outputs": [
        {
          "output_type": "display_data",
          "data": {
            "image/png": "[encoded data removed]",
            "text/plain": [
              "<Figure size 432x288 with 1 Axes>"
            ]
          },
          "metadata": {
            "needs_background": "light"
          }
        },
        {
          "output_type": "execute_result",
          "data": {
            "text/plain": [
              "array([0, 0, 0, 0, 0, 0, 0, 0, 0, 0, 0, 0, 0, 1, 0, 0, 0, 0, 0, 0, 0, 0,\n",
              "       0, 0, 0, 0, 0, 0, 0, 0, 0, 0, 0, 0, 0, 0, 0, 0, 0, 0, 0, 0, 0, 0,\n",
              "       0, 1, 0, 0, 0, 0, 0, 0, 0, 0, 1, 0, 0, 0, 0, 0, 0, 0, 0, 0, 0, 0,\n",
              "       0, 0, 0, 0, 0, 0, 0, 0, 0, 0, 0, 0, 0, 0, 0, 0, 0, 0, 0, 0, 0, 0,\n",
              "       0, 0, 0, 0, 0, 0, 0, 0, 0, 0, 0, 0, 0, 0, 0, 0, 0, 0, 0, 0, 0, 0,\n",
              "       0, 0, 0, 0, 0, 0, 0, 0, 0, 0, 0, 0, 0, 0, 0, 0, 0, 0, 0, 0, 0, 0,\n",
              "       0, 0, 0, 0, 0, 0, 0, 0, 0, 0, 0, 0, 0, 0, 0, 0, 0, 0, 0, 0, 0, 0,\n",
              "       0, 0, 0, 0, 0, 0, 0, 0, 0, 0, 0, 0, 0, 0, 0, 0, 0, 0, 0, 0, 0, 0,\n",
              "       0, 0, 0, 0, 0, 0, 0, 0, 0, 0, 0, 0, 0, 0, 0, 0, 0, 0, 0, 0, 0, 0,\n",
              "       0, 0, 0, 0, 0, 0, 0, 0, 0, 0, 0, 0, 0, 0, 0, 0, 0, 0, 0, 0, 0, 0,\n",
              "       0], dtype=int32)"
            ]
          },
          "metadata": {},
          "execution_count": 59
        }
      ]
    },
    {
      "cell_type": "code",
      "metadata": {
        "colab": {
          "base_uri": "https://localhost:8080/",
          "height": 205
        },
        "id": "Wlq8n7tLq3MJ",
        "outputId": "2a245e55-c077-488f-8feb-e5ddaab9c9a2"
      },
      "source": [
        "finalData[\"cluster\"]=y_predict\n",
        "finalData.head()"
      ],
      "execution_count": null,
      "outputs": [
        {
          "output_type": "execute_result",
          "data": {
            "text/html": [
              "<div>\n",
              "<style scoped>\n",
              "    .dataframe tbody tr th:only-of-type {\n",
              "        vertical-align: middle;\n",
              "    }\n",
              "\n",
              "    .dataframe tbody tr th {\n",
              "        vertical-align: top;\n",
              "    }\n",
              "\n",
              "    .dataframe thead th {\n",
              "        text-align: right;\n",
              "    }\n",
              "</style>\n",
              "<table border=\"1\" class=\"dataframe\">\n",
              "  <thead>\n",
              "    <tr style=\"text-align: right;\">\n",
              "      <th></th>\n",
              "      <th>Star_name</th>\n",
              "      <th>Distance</th>\n",
              "      <th>Mass</th>\n",
              "      <th>Radius</th>\n",
              "      <th>Gravity</th>\n",
              "      <th>cluster</th>\n",
              "    </tr>\n",
              "  </thead>\n",
              "  <tbody>\n",
              "    <tr>\n",
              "      <th>0</th>\n",
              "      <td>Sun</td>\n",
              "      <td>0.000016</td>\n",
              "      <td>1.0</td>\n",
              "      <td>1.0</td>\n",
              "      <td>274.269161</td>\n",
              "      <td>0</td>\n",
              "    </tr>\n",
              "    <tr>\n",
              "      <th>1</th>\n",
              "      <td>Canopus</td>\n",
              "      <td>310.000000</td>\n",
              "      <td>15.0</td>\n",
              "      <td>71.0</td>\n",
              "      <td>0.816115</td>\n",
              "      <td>0</td>\n",
              "    </tr>\n",
              "    <tr>\n",
              "      <th>2</th>\n",
              "      <td>Alpha Centauri</td>\n",
              "      <td>4.400000</td>\n",
              "      <td>1.1</td>\n",
              "      <td>1.2</td>\n",
              "      <td>209.511165</td>\n",
              "      <td>0</td>\n",
              "    </tr>\n",
              "    <tr>\n",
              "      <th>3</th>\n",
              "      <td>Arcturus</td>\n",
              "      <td>37.000000</td>\n",
              "      <td>1.1</td>\n",
              "      <td>26.0</td>\n",
              "      <td>0.446296</td>\n",
              "      <td>0</td>\n",
              "    </tr>\n",
              "    <tr>\n",
              "      <th>4</th>\n",
              "      <td>Vega</td>\n",
              "      <td>25.000000</td>\n",
              "      <td>2.2</td>\n",
              "      <td>2.7</td>\n",
              "      <td>82.769843</td>\n",
              "      <td>0</td>\n",
              "    </tr>\n",
              "  </tbody>\n",
              "</table>\n",
              "</div>"
            ],
            "text/plain": [
              "        Star_name    Distance  Mass  Radius     Gravity  cluster\n",
              "0             Sun    0.000016   1.0     1.0  274.269161        0\n",
              "1         Canopus  310.000000  15.0    71.0    0.816115        0\n",
              "2  Alpha Centauri    4.400000   1.1     1.2  209.511165        0\n",
              "3        Arcturus   37.000000   1.1    26.0    0.446296        0\n",
              "4            Vega   25.000000   2.2     2.7   82.769843        0"
            ]
          },
          "metadata": {},
          "execution_count": 60
        }
      ]
    },
    {
      "cell_type": "code",
      "metadata": {
        "colab": {
          "base_uri": "https://localhost:8080/"
        },
        "id": "fj3abO4bruO0",
        "outputId": "9e1ee283-8fde-4d98-96f1-f9514357dd2b"
      },
      "source": [
        "km.cluster_centers_"
      ],
      "execution_count": null,
      "outputs": [
        {
          "output_type": "execute_result",
          "data": {
            "text/plain": [
              "array([[  1.49787692,   5.73218775],\n",
              "       [  5.33333333, 443.33333333]])"
            ]
          },
          "metadata": {},
          "execution_count": 61
        }
      ]
    },
    {
      "cell_type": "code",
      "metadata": {
        "colab": {
          "base_uri": "https://localhost:8080/",
          "height": 283
        },
        "id": "BVbnq0SYry2b",
        "outputId": "6847723f-2389-4e9d-8c43-c056e254d36b"
      },
      "source": [
        "df1=finalData[finalData.cluster==0]\n",
        "df2=finalData[finalData.cluster==1]\n",
        "df3=finalData[finalData.cluster==2]\n",
        "plt.scatter(df1[\"Mass\"],df1[\"Radius\"],color=\"red\")\n",
        "plt.scatter(df2[\"Mass\"],df2[\"Radius\"],color=\"green\")\n",
        "plt.scatter(df3[\"Mass\"],df3[\"Radius\"],color=\"blue\")\n",
        "plt.scatter(km.cluster_centers_[:,0],km.cluster_centers_[:,1],color=\"black\", marker=\"*\")"
      ],
      "execution_count": null,
      "outputs": [
        {
          "output_type": "execute_result",
          "data": {
            "text/plain": [
              "<matplotlib.collections.PathCollection at 0x7fe38e023310>"
            ]
          },
          "metadata": {},
          "execution_count": 62
        },
        {
          "output_type": "display_data",
          "data": {
            "image/png": "[encoded data removed]",
            "text/plain": [
              "<Figure size 432x288 with 1 Axes>"
            ]
          },
          "metadata": {
            "needs_background": "light"
          }
        }
      ]
    },
    {
      "cell_type": "markdown",
      "metadata": {
        "id": "r5d3oWWQD06g"
      },
      "source": [
        "**Class 134 Project FILTERING STARS**"
      ]
    },
    {
      "cell_type": "code",
      "metadata": {
        "colab": {
          "base_uri": "https://localhost:8080/",
          "height": 205
        },
        "id": "1QZhp2dmspWZ",
        "outputId": "fdcf3751-8e91-40b9-c8f8-bd45c0bdb001"
      },
      "source": [
        "df = pd.read_csv(\"Stars_final.csv\")\n",
        "\n",
        "df.head()"
      ],
      "execution_count": null,
      "outputs": [
        {
          "output_type": "execute_result",
          "data": {
            "text/html": [
              "<div>\n",
              "<style scoped>\n",
              "    .dataframe tbody tr th:only-of-type {\n",
              "        vertical-align: middle;\n",
              "    }\n",
              "\n",
              "    .dataframe tbody tr th {\n",
              "        vertical-align: top;\n",
              "    }\n",
              "\n",
              "    .dataframe thead th {\n",
              "        text-align: right;\n",
              "    }\n",
              "</style>\n",
              "<table border=\"1\" class=\"dataframe\">\n",
              "  <thead>\n",
              "    <tr style=\"text-align: right;\">\n",
              "      <th></th>\n",
              "      <th>Unnamed: 0</th>\n",
              "      <th>Star_name</th>\n",
              "      <th>Distance</th>\n",
              "      <th>Mass</th>\n",
              "      <th>Radius</th>\n",
              "      <th>Gravity</th>\n",
              "    </tr>\n",
              "  </thead>\n",
              "  <tbody>\n",
              "    <tr>\n",
              "      <th>0</th>\n",
              "      <td>0</td>\n",
              "      <td>Sun</td>\n",
              "      <td>0.000016</td>\n",
              "      <td>1.0</td>\n",
              "      <td>1.0</td>\n",
              "      <td>274.269161</td>\n",
              "    </tr>\n",
              "    <tr>\n",
              "      <th>1</th>\n",
              "      <td>1</td>\n",
              "      <td>Canopus</td>\n",
              "      <td>310.000000</td>\n",
              "      <td>15.0</td>\n",
              "      <td>71.0</td>\n",
              "      <td>0.816115</td>\n",
              "    </tr>\n",
              "    <tr>\n",
              "      <th>2</th>\n",
              "      <td>2</td>\n",
              "      <td>Alpha Centauri</td>\n",
              "      <td>4.400000</td>\n",
              "      <td>1.1</td>\n",
              "      <td>1.2</td>\n",
              "      <td>209.511165</td>\n",
              "    </tr>\n",
              "    <tr>\n",
              "      <th>3</th>\n",
              "      <td>3</td>\n",
              "      <td>Arcturus</td>\n",
              "      <td>37.000000</td>\n",
              "      <td>1.1</td>\n",
              "      <td>26.0</td>\n",
              "      <td>0.446296</td>\n",
              "    </tr>\n",
              "    <tr>\n",
              "      <th>4</th>\n",
              "      <td>4</td>\n",
              "      <td>Vega</td>\n",
              "      <td>25.000000</td>\n",
              "      <td>2.2</td>\n",
              "      <td>2.7</td>\n",
              "      <td>82.769843</td>\n",
              "    </tr>\n",
              "  </tbody>\n",
              "</table>\n",
              "</div>"
            ],
            "text/plain": [
              "   Unnamed: 0       Star_name    Distance  Mass  Radius     Gravity\n",
              "0           0             Sun    0.000016   1.0     1.0  274.269161\n",
              "1           1         Canopus  310.000000  15.0    71.0    0.816115\n",
              "2           2  Alpha Centauri    4.400000   1.1     1.2  209.511165\n",
              "3           3        Arcturus   37.000000   1.1    26.0    0.446296\n",
              "4           4            Vega   25.000000   2.2     2.7   82.769843"
            ]
          },
          "metadata": {},
          "execution_count": 63
        }
      ]
    },
    {
      "cell_type": "code",
      "metadata": {
        "colab": {
          "base_uri": "https://localhost:8080/"
        },
        "id": "gE-3mQKSs1i0",
        "outputId": "e5d0a5c8-b964-443d-db9d-288e0f939f71"
      },
      "source": [
        "#filtering the stars based on distance\n",
        "bools =[]\n",
        "for d in df.Distance:\n",
        "    if d<=100:\n",
        "        bools.append(True)\n",
        "    else:\n",
        "        bools.append(False)\n",
        "print(bools)"
      ],
      "execution_count": null,
      "outputs": [
        {
          "output_type": "stream",
          "name": "stdout",
          "text": [
            "[True, False, True, True, True, True, False, True, False, False, True, False, True, False, False, True, True, False, True, False, False, True, True, False, False, False, False, True, False, False, False, False, False, False, False, True, False, False, False, True, False, False, False, False, False, False, True, True, True, False, True, True, False, True, False, True, False, True, True, True, True, True, True, True, False, True, False, True, False, True, True, True, True, True, True, True, True, False, False, True, False, False, False, False, True, True, True, False, True, True, True, True, False, True, True, True, True, True, True, False, True, True, True, True, True, False, True, True, True, True, True, True, True, True, True, True, False, True, True, True, True, True, True, True, True, True, True, True, True, True, True, True, True, True, True, True, True, True, True, True, True, True, True, True, True, True, True, True, False, False, True, True, False, False, True, False, True, True, False, True, True, True, False, True, True, True, True, False, True, True, True, True, True, False, False, True, True, True, True, True, True, True, True, True, True, True, True, True, True, False, True, True, True, False, True, True, True, False, True, False, True, True, True, True, False, True, True, True, False, True, True, True, True, True, False, True, True, True, True, True, True]\n"
          ]
        }
      ]
    },
    {
      "cell_type": "code",
      "metadata": {
        "colab": {
          "base_uri": "https://localhost:8080/"
        },
        "id": "-RRa4D6Rs9xE",
        "outputId": "c436b2ed-3247-4cb0-fd29-7827aed97f47"
      },
      "source": [
        "is_dist = pd.Series(bools)\n",
        "is_dist.head()\n",
        "# print(is_dist)"
      ],
      "execution_count": null,
      "outputs": [
        {
          "output_type": "execute_result",
          "data": {
            "text/plain": [
              "0     True\n",
              "1    False\n",
              "2     True\n",
              "3     True\n",
              "4     True\n",
              "dtype: bool"
            ]
          },
          "metadata": {},
          "execution_count": 67
        }
      ]
    },
    {
      "cell_type": "code",
      "metadata": {
        "colab": {
          "base_uri": "https://localhost:8080/"
        },
        "id": "rAIBzZQatM6k",
        "outputId": "858fbe25-d65d-4e98-dd1a-ec2fdc4d5591"
      },
      "source": [
        "star_dist=df[is_dist]\n",
        "star_dist.reset_index(inplace=True,drop=True)\n",
        "star_dist.head()\n",
        "star_dist.shape"
      ],
      "execution_count": null,
      "outputs": [
        {
          "output_type": "execute_result",
          "data": {
            "text/plain": [
              "(156, 6)"
            ]
          },
          "metadata": {},
          "execution_count": 71
        }
      ]
    },
    {
      "cell_type": "code",
      "metadata": {
        "colab": {
          "base_uri": "https://localhost:8080/"
        },
        "id": "fN_N0tyjttyY",
        "outputId": "7a1baef8-d309-4ee3-be53-7e7e5580da5d"
      },
      "source": [
        "#keep the stars having gravity similar to sun\n",
        "gravity_bool = []\n",
        "for g in star_dist.Gravity:\n",
        "    if g<=350 and g>=150:\n",
        "        gravity_bool.append(True)\n",
        "    else :\n",
        "        gravity_bool.append(False)\n",
        "\n",
        "is_gravity = pd.Series(gravity_bool)\n",
        "is_gravity.head()"
      ],
      "execution_count": null,
      "outputs": [
        {
          "output_type": "execute_result",
          "data": {
            "text/plain": [
              "0     True\n",
              "1     True\n",
              "2    False\n",
              "3    False\n",
              "4    False\n",
              "dtype: bool"
            ]
          },
          "metadata": {},
          "execution_count": 75
        }
      ]
    },
    {
      "cell_type": "code",
      "metadata": {
        "colab": {
          "base_uri": "https://localhost:8080/"
        },
        "id": "RbBZpcWBt0J4",
        "outputId": "d97ab1d4-01c2-4d8e-b1b0-2685795c3012"
      },
      "source": [
        "final_stars = star_dist[is_gravity]\n",
        "final_stars.head()\n",
        "final_stars.shape"
      ],
      "execution_count": null,
      "outputs": [
        {
          "output_type": "execute_result",
          "data": {
            "text/plain": [
              "(20, 6)"
            ]
          },
          "metadata": {},
          "execution_count": 77
        }
      ]
    },
    {
      "cell_type": "code",
      "metadata": {
        "colab": {
          "base_uri": "https://localhost:8080/",
          "height": 205
        },
        "id": "kLTWFyHRt_CZ",
        "outputId": "fcf49075-5d7f-42d1-8ff5-46b98e2ebb5e"
      },
      "source": [
        "final_stars.reset_index(inplace=True,drop=True)\n",
        "final_stars.head()"
      ],
      "execution_count": null,
      "outputs": [
        {
          "output_type": "execute_result",
          "data": {
            "text/html": [
              "<div>\n",
              "<style scoped>\n",
              "    .dataframe tbody tr th:only-of-type {\n",
              "        vertical-align: middle;\n",
              "    }\n",
              "\n",
              "    .dataframe tbody tr th {\n",
              "        vertical-align: top;\n",
              "    }\n",
              "\n",
              "    .dataframe thead th {\n",
              "        text-align: right;\n",
              "    }\n",
              "</style>\n",
              "<table border=\"1\" class=\"dataframe\">\n",
              "  <thead>\n",
              "    <tr style=\"text-align: right;\">\n",
              "      <th></th>\n",
              "      <th>Unnamed: 0</th>\n",
              "      <th>Star_name</th>\n",
              "      <th>Distance</th>\n",
              "      <th>Mass</th>\n",
              "      <th>Radius</th>\n",
              "      <th>Gravity</th>\n",
              "    </tr>\n",
              "  </thead>\n",
              "  <tbody>\n",
              "    <tr>\n",
              "      <th>0</th>\n",
              "      <td>0</td>\n",
              "      <td>Sun</td>\n",
              "      <td>0.000016</td>\n",
              "      <td>1.000</td>\n",
              "      <td>1.000</td>\n",
              "      <td>274.269161</td>\n",
              "    </tr>\n",
              "    <tr>\n",
              "      <th>1</th>\n",
              "      <td>2</td>\n",
              "      <td>Alpha Centauri</td>\n",
              "      <td>4.400000</td>\n",
              "      <td>1.100</td>\n",
              "      <td>1.200</td>\n",
              "      <td>209.511165</td>\n",
              "    </tr>\n",
              "    <tr>\n",
              "      <th>2</th>\n",
              "      <td>10</td>\n",
              "      <td>Altair</td>\n",
              "      <td>17.000000</td>\n",
              "      <td>1.800</td>\n",
              "      <td>1.800</td>\n",
              "      <td>152.371756</td>\n",
              "    </tr>\n",
              "    <tr>\n",
              "      <th>3</th>\n",
              "      <td>16</td>\n",
              "      <td>Fomalhaut</td>\n",
              "      <td>25.000000</td>\n",
              "      <td>1.900</td>\n",
              "      <td>1.800</td>\n",
              "      <td>160.836854</td>\n",
              "    </tr>\n",
              "    <tr>\n",
              "      <th>4</th>\n",
              "      <td>46</td>\n",
              "      <td>Tau Ceti</td>\n",
              "      <td>11.900000</td>\n",
              "      <td>0.783</td>\n",
              "      <td>0.893</td>\n",
              "      <td>269.299671</td>\n",
              "    </tr>\n",
              "  </tbody>\n",
              "</table>\n",
              "</div>"
            ],
            "text/plain": [
              "   Unnamed: 0       Star_name   Distance   Mass  Radius     Gravity\n",
              "0           0             Sun   0.000016  1.000   1.000  274.269161\n",
              "1           2  Alpha Centauri   4.400000  1.100   1.200  209.511165\n",
              "2          10          Altair  17.000000  1.800   1.800  152.371756\n",
              "3          16       Fomalhaut  25.000000  1.900   1.800  160.836854\n",
              "4          46        Tau Ceti  11.900000  0.783   0.893  269.299671"
            ]
          },
          "metadata": {},
          "execution_count": 78
        }
      ]
    },
    {
      "cell_type": "code",
      "metadata": {
        "colab": {
          "base_uri": "https://localhost:8080/",
          "height": 17
        },
        "id": "GTUgJk_buHpf",
        "outputId": "c7996ea9-585a-44d4-e519-6cf89e32645c"
      },
      "source": [
        "from google.colab import files\n",
        "final_stars.to_csv(\"final_stars.csv\")\n",
        "files.download(\"final_stars.csv\")"
      ],
      "execution_count": null,
      "outputs": [
        {
          "output_type": "display_data",
          "data": {
            "application/javascript": [
              "\n",
              "    async function download(id, filename, size) {\n",
              "      if (!google.colab.kernel.accessAllowed) {\n",
              "        return;\n",
              "      }\n",
              "      const div = document.createElement('div');\n",
              "      const label = document.createElement('label');\n",
              "      label.textContent = `Downloading \"${filename}\": `;\n",
              "      div.appendChild(label);\n",
              "      const progress = document.createElement('progress');\n",
              "      progress.max = size;\n",
              "      div.appendChild(progress);\n",
              "      document.body.appendChild(div);\n",
              "\n",
              "      const buffers = [];\n",
              "      let downloaded = 0;\n",
              "\n",
              "      const channel = await google.colab.kernel.comms.open(id);\n",
              "      // Send a message to notify the kernel that we're ready.\n",
              "      channel.send({})\n",
              "\n",
              "      for await (const message of channel.messages) {\n",
              "        // Send a message to notify the kernel that we're ready.\n",
              "        channel.send({})\n",
              "        if (message.buffers) {\n",
              "          for (const buffer of message.buffers) {\n",
              "            buffers.push(buffer);\n",
              "            downloaded += buffer.byteLength;\n",
              "            progress.value = downloaded;\n",
              "          }\n",
              "        }\n",
              "      }\n",
              "      const blob = new Blob(buffers, {type: 'application/binary'});\n",
              "      const a = document.createElement('a');\n",
              "      a.href = window.URL.createObjectURL(blob);\n",
              "      a.download = filename;\n",
              "      div.appendChild(a);\n",
              "      a.click();\n",
              "      div.remove();\n",
              "    }\n",
              "  "
            ],
            "text/plain": [
              "<IPython.core.display.Javascript object>"
            ]
          },
          "metadata": {}
        },
        {
          "output_type": "display_data",
          "data": {
            "application/javascript": [
              "download(\"download_120133cb-1572-44c4-a568-991e7e6c2c3e\", \"final_stars.csv\", 1473)"
            ],
            "text/plain": [
              "<IPython.core.display.Javascript object>"
            ]
          },
          "metadata": {}
        }
      ]
    },
    {
      "cell_type": "markdown",
      "metadata": {
        "id": "IViSPadyEfTF"
      },
      "source": [
        "**class 135 INTERPRETING RESULTS**"
      ]
    },
    {
      "cell_type": "code",
      "metadata": {
        "colab": {
          "base_uri": "https://localhost:8080/",
          "height": 205
        },
        "id": "tQsO1LsgujYX",
        "outputId": "1b0958ec-daeb-4f20-bf65-a895371e5979"
      },
      "source": [
        "df = pd.read_csv(\"final_stars.csv\")\n",
        "df.head()"
      ],
      "execution_count": null,
      "outputs": [
        {
          "output_type": "execute_result",
          "data": {
            "text/html": [
              "<div>\n",
              "<style scoped>\n",
              "    .dataframe tbody tr th:only-of-type {\n",
              "        vertical-align: middle;\n",
              "    }\n",
              "\n",
              "    .dataframe tbody tr th {\n",
              "        vertical-align: top;\n",
              "    }\n",
              "\n",
              "    .dataframe thead th {\n",
              "        text-align: right;\n",
              "    }\n",
              "</style>\n",
              "<table border=\"1\" class=\"dataframe\">\n",
              "  <thead>\n",
              "    <tr style=\"text-align: right;\">\n",
              "      <th></th>\n",
              "      <th>Unnamed: 0</th>\n",
              "      <th>Unnamed: 0.1</th>\n",
              "      <th>Star_name</th>\n",
              "      <th>Distance</th>\n",
              "      <th>Mass</th>\n",
              "      <th>Radius</th>\n",
              "      <th>Gravity</th>\n",
              "    </tr>\n",
              "  </thead>\n",
              "  <tbody>\n",
              "    <tr>\n",
              "      <th>0</th>\n",
              "      <td>0</td>\n",
              "      <td>0</td>\n",
              "      <td>Sun</td>\n",
              "      <td>0.000016</td>\n",
              "      <td>1.000</td>\n",
              "      <td>1.000</td>\n",
              "      <td>274.269161</td>\n",
              "    </tr>\n",
              "    <tr>\n",
              "      <th>1</th>\n",
              "      <td>1</td>\n",
              "      <td>2</td>\n",
              "      <td>Alpha Centauri</td>\n",
              "      <td>4.400000</td>\n",
              "      <td>1.100</td>\n",
              "      <td>1.200</td>\n",
              "      <td>209.511165</td>\n",
              "    </tr>\n",
              "    <tr>\n",
              "      <th>2</th>\n",
              "      <td>2</td>\n",
              "      <td>10</td>\n",
              "      <td>Altair</td>\n",
              "      <td>17.000000</td>\n",
              "      <td>1.800</td>\n",
              "      <td>1.800</td>\n",
              "      <td>152.371756</td>\n",
              "    </tr>\n",
              "    <tr>\n",
              "      <th>3</th>\n",
              "      <td>3</td>\n",
              "      <td>16</td>\n",
              "      <td>Fomalhaut</td>\n",
              "      <td>25.000000</td>\n",
              "      <td>1.900</td>\n",
              "      <td>1.800</td>\n",
              "      <td>160.836854</td>\n",
              "    </tr>\n",
              "    <tr>\n",
              "      <th>4</th>\n",
              "      <td>4</td>\n",
              "      <td>46</td>\n",
              "      <td>Tau Ceti</td>\n",
              "      <td>11.900000</td>\n",
              "      <td>0.783</td>\n",
              "      <td>0.893</td>\n",
              "      <td>269.299671</td>\n",
              "    </tr>\n",
              "  </tbody>\n",
              "</table>\n",
              "</div>"
            ],
            "text/plain": [
              "   Unnamed: 0  Unnamed: 0.1       Star_name  ...   Mass  Radius     Gravity\n",
              "0           0             0             Sun  ...  1.000   1.000  274.269161\n",
              "1           1             2  Alpha Centauri  ...  1.100   1.200  209.511165\n",
              "2           2            10          Altair  ...  1.800   1.800  152.371756\n",
              "3           3            16       Fomalhaut  ...  1.900   1.800  160.836854\n",
              "4           4            46        Tau Ceti  ...  0.783   0.893  269.299671\n",
              "\n",
              "[5 rows x 7 columns]"
            ]
          },
          "metadata": {},
          "execution_count": 80
        }
      ]
    },
    {
      "cell_type": "code",
      "metadata": {
        "id": "Vq1Tg865up3h"
      },
      "source": [
        "df.drop(['Unnamed: 0', 'Unnamed: 0.1'],axis=1,inplace=True)"
      ],
      "execution_count": null,
      "outputs": []
    },
    {
      "cell_type": "code",
      "metadata": {
        "id": "otBeakKhutDO"
      },
      "source": [
        "name = df[\"Star_name\"].to_list()\n",
        "mass = df[\"Mass\"].to_list()\n",
        "radius = df[\"Radius\"].to_list()\n",
        "dist = df[\"Distance\"].to_list()\n",
        "gravity = df[\"Gravity\"].to_list()"
      ],
      "execution_count": null,
      "outputs": []
    },
    {
      "cell_type": "code",
      "metadata": {
        "colab": {
          "base_uri": "https://localhost:8080/",
          "height": 345
        },
        "id": "_czBBw6guw8X",
        "outputId": "f97146e0-da00-4ca1-e3bd-d69f85137e98"
      },
      "source": [
        "plt.figure(figsize=(30,10))\n",
        "plt.title(\"Stars Solar Mass\")\n",
        "plt.bar(name[0:11],mass[0:11],color=\"red\")"
      ],
      "execution_count": null,
      "outputs": [
        {
          "output_type": "execute_result",
          "data": {
            "text/plain": [
              "<BarContainer object of 11 artists>"
            ]
          },
          "metadata": {},
          "execution_count": 90
        },
        {
          "output_type": "display_data",
          "data": {
            "image/png": "[encoded data removed]",
            "text/plain": [
              "<Figure size 2160x720 with 1 Axes>"
            ]
          },
          "metadata": {
            "needs_background": "light"
          }
        }
      ]
    },
    {
      "cell_type": "code",
      "metadata": {
        "colab": {
          "base_uri": "https://localhost:8080/",
          "height": 353
        },
        "id": "IMJPUNk3u1Ox",
        "outputId": "8dedc5b9-1938-4c44-f814-636fd62eb78b"
      },
      "source": [
        "plt.figure(figsize=(10,5))\n",
        "plt.title(\"Stars Solar Radius\")\n",
        "plt.bar(name[0:9],radius[0:9])"
      ],
      "execution_count": null,
      "outputs": [
        {
          "output_type": "execute_result",
          "data": {
            "text/plain": [
              "<BarContainer object of 9 artists>"
            ]
          },
          "metadata": {},
          "execution_count": 84
        },
        {
          "output_type": "display_data",
          "data": {
            "image/png": "[encoded data removed]",
            "text/plain": [
              "<Figure size 720x360 with 1 Axes>"
            ]
          },
          "metadata": {
            "needs_background": "light"
          }
        }
      ]
    }
  ]
}